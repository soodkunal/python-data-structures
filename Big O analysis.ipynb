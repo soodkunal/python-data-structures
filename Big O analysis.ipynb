{
 "cells": [
  {
   "cell_type": "markdown",
   "id": "4beec9df-bb31-4a34-b0ed-c025d5cfa1cd",
   "metadata": {},
   "source": [
    "<h1>Big O Analaysis </h1>"
   ]
  },
  {
   "cell_type": "code",
   "execution_count": 2,
   "id": "abb4d537-1fec-4451-9a8c-2a7154b6e0ee",
   "metadata": {},
   "outputs": [],
   "source": [
    "def sum(n):\n",
    "    fsum=0\n",
    "    for x in range (n+1):\n",
    "        fsum+=x\n",
    "    return fsum"
   ]
  },
  {
   "cell_type": "code",
   "execution_count": 3,
   "id": "e2f7f1b7-7f9a-46c9-9437-1454eb5762d6",
   "metadata": {},
   "outputs": [
    {
     "data": {
      "text/plain": [
       "55"
      ]
     },
     "execution_count": 3,
     "metadata": {},
     "output_type": "execute_result"
    }
   ],
   "source": [
    "sum(10)"
   ]
  },
  {
   "cell_type": "code",
   "execution_count": 4,
   "id": "6b409b74-dfa0-488e-be4f-2e26a017ee00",
   "metadata": {},
   "outputs": [],
   "source": [
    "def sum2(n):\n",
    "    return(n*(n+1)/2)"
   ]
  },
  {
   "cell_type": "code",
   "execution_count": 5,
   "id": "dcd78711-09f5-4dbe-9890-cc809840c24b",
   "metadata": {},
   "outputs": [
    {
     "data": {
      "text/plain": [
       "55.0"
      ]
     },
     "execution_count": 5,
     "metadata": {},
     "output_type": "execute_result"
    }
   ],
   "source": [
    "sum2(10)"
   ]
  },
  {
   "cell_type": "code",
   "execution_count": 6,
   "id": "0a10ea3c-07bd-42b1-86e3-97d2b9514853",
   "metadata": {},
   "outputs": [
    {
     "name": "stdout",
     "output_type": "stream",
     "text": [
      "9.43 µs ± 928 ns per loop (mean ± std. dev. of 7 runs, 100,000 loops each)\n"
     ]
    }
   ],
   "source": [
    "%timeit sum(100)"
   ]
  },
  {
   "cell_type": "code",
   "execution_count": 7,
   "id": "ab375be4-db67-4ab7-9e9b-376b21b18063",
   "metadata": {},
   "outputs": [
    {
     "name": "stdout",
     "output_type": "stream",
     "text": [
      "310 ns ± 104 ns per loop (mean ± std. dev. of 7 runs, 1,000,000 loops each)\n"
     ]
    }
   ],
   "source": [
    "%timeit sum2(100)"
   ]
  },
  {
   "cell_type": "markdown",
   "id": "20a0aeb7-ab8d-485a-aee1-e025306564f1",
   "metadata": {},
   "source": [
    "it implies 2nd functio is much more efficient"
   ]
  },
  {
   "cell_type": "markdown",
   "id": "43a1316d-0c22-4009-81a0-4509cb73b1ec",
   "metadata": {},
   "source": [
    "<h1>Big O(1）Constant</h1>"
   ]
  },
  {
   "cell_type": "code",
   "execution_count": 15,
   "id": "37bc600a-891c-456e-a9f9-e40495a516f3",
   "metadata": {},
   "outputs": [
    {
     "name": "stdout",
     "output_type": "stream",
     "text": [
      "12\n"
     ]
    }
   ],
   "source": [
    "def big_constant(values):\n",
    "    print(values[0])\n",
    "lis1=[12,52,3,6,45,23,1]\n",
    "big_constant(lis1)"
   ]
  },
  {
   "cell_type": "markdown",
   "id": "d5f17a07-e465-4e7e-b2d5-1a72fb684069",
   "metadata": {},
   "source": [
    "We print first value of list so complexity is always one wheather it is for 1000 items or infinitely large  items complexity will be always Big O(1)"
   ]
  },
  {
   "cell_type": "markdown",
   "id": "f9d5edca-1811-40d1-9bfb-429a58e3df56",
   "metadata": {},
   "source": [
    "<h1>Big O(n）Linear</h1>"
   ]
  },
  {
   "cell_type": "code",
   "execution_count": 17,
   "id": "825fc55e-5808-4ba4-b52a-404828291489",
   "metadata": {},
   "outputs": [
    {
     "name": "stdout",
     "output_type": "stream",
     "text": [
      "12\n",
      "52\n",
      "3\n",
      "6\n",
      "45\n",
      "23\n",
      "1\n"
     ]
    }
   ],
   "source": [
    "def big_linear(values):\n",
    "    for i in values:\n",
    "        print(i)\n",
    "big_linear(lis1)"
   ]
  },
  {
   "cell_type": "markdown",
   "id": "7790e847-327c-4770-b472-4bba28008816",
   "metadata": {},
   "source": [
    "we print whole list every single value get print  implying it is caled linear with n.If there are n values it get print n times, loop runs 100 times thereby having complexity as Big O(n)"
   ]
  },
  {
   "cell_type": "markdown",
   "id": "fce8bc71-a25d-4d0a-92fc-470d2f581bcf",
   "metadata": {},
   "source": [
    "<h1>Big O(n^2）Quadratic</h1>"
   ]
  },
  {
   "cell_type": "code",
   "execution_count": 21,
   "id": "9dd99923-4293-4a87-93e1-ef7dae64f47f",
   "metadata": {},
   "outputs": [
    {
     "name": "stdout",
     "output_type": "stream",
     "text": [
      "12 12\n",
      "12 52\n",
      "12 3\n",
      "12 6\n",
      "12 45\n",
      "12 23\n",
      "12 1\n",
      "52 12\n",
      "52 52\n",
      "52 3\n",
      "52 6\n",
      "52 45\n",
      "52 23\n",
      "52 1\n",
      "3 12\n",
      "3 52\n",
      "3 3\n",
      "3 6\n",
      "3 45\n",
      "3 23\n",
      "3 1\n",
      "6 12\n",
      "6 52\n",
      "6 3\n",
      "6 6\n",
      "6 45\n",
      "6 23\n",
      "6 1\n",
      "45 12\n",
      "45 52\n",
      "45 3\n",
      "45 6\n",
      "45 45\n",
      "45 23\n",
      "45 1\n",
      "23 12\n",
      "23 52\n",
      "23 3\n",
      "23 6\n",
      "23 45\n",
      "23 23\n",
      "23 1\n",
      "1 12\n",
      "1 52\n",
      "1 3\n",
      "1 6\n",
      "1 45\n",
      "1 23\n",
      "1 1\n"
     ]
    }
   ],
   "source": [
    "def big_quad(lst):\n",
    "    for item1 in lst:\n",
    "        for item2 in lst:\n",
    "            print(item1,item2)\n",
    "big_quad(lis1)"
   ]
  },
  {
   "cell_type": "markdown",
   "id": "eb53e417-23d1-45b5-9502-2d29c3f5ecc9",
   "metadata": {},
   "source": [
    "One loop nested inside the other we perform n times n actions here.It has complexity of Big O(n^2)"
   ]
  },
  {
   "cell_type": "code",
   "execution_count": 22,
   "id": "8609e438-45cc-4523-a8a5-24b356c504fe",
   "metadata": {},
   "outputs": [
    {
     "name": "stdout",
     "output_type": "stream",
     "text": [
      "1\n",
      "2\n",
      "3\n",
      "1\n",
      "2\n",
      "3\n"
     ]
    }
   ],
   "source": [
    "def linear_funct(lst):\n",
    "    for i in lst:\n",
    "        print(i)\n",
    "\n",
    "    for i in lst:\n",
    "        print(i)\n",
    "lst=[1,2,3]\n",
    "linear_funct(lst)\n",
    "        "
   ]
  },
  {
   "cell_type": "markdown",
   "id": "51bc4332-d35e-4bb1-9cce-46834e0e80a9",
   "metadata": {},
   "source": [
    "the complexity of the function is linear it is not n^2 as loops are running but it is still linear therefore it is Big O(2n) and we take worst one so it is Big O(n)"
   ]
  },
  {
   "cell_type": "code",
   "execution_count": 26,
   "id": "9e8a6e5e-5673-475f-bcd1-47db9e665063",
   "metadata": {},
   "outputs": [],
   "source": [
    "def complexity(lst):\n",
    "    print(lst[0])                 # O(1)\n",
    "    midpoint=int(len(lst)/2)\n",
    "    for val in lst[:midpoint]:    #O(n/2)\n",
    "        print(val) \n",
    "    for i in range(10):           #O (10)\n",
    "        print(\"Hello Coder\")"
   ]
  },
  {
   "cell_type": "code",
   "execution_count": 30,
   "id": "982f3d2a-b28a-4f28-b2fe-60796bb9dd2e",
   "metadata": {},
   "outputs": [
    {
     "name": "stdout",
     "output_type": "stream",
     "text": [
      "1\n",
      "1\n",
      "2\n",
      "3\n",
      "4\n",
      "5\n",
      "Hello Coder\n",
      "Hello Coder\n",
      "Hello Coder\n",
      "Hello Coder\n",
      "Hello Coder\n",
      "Hello Coder\n",
      "Hello Coder\n",
      "Hello Coder\n",
      "Hello Coder\n",
      "Hello Coder\n"
     ]
    }
   ],
   "source": [
    "lst=[1,2,3,4,5,6,7,8,9,10]\n",
    "complexity(lst)"
   ]
  },
  {
   "cell_type": "markdown",
   "id": "50b591d6-4cbe-4aea-ab69-fd719d02b4f5",
   "metadata": {},
   "source": [
    "so the total complexity of the above function is <b>O(1+n/2+10)</b>\n",
    "if n is very very large then 1 and 10 term get insignificant therefore it can be reduce to order <b>O(n)</b>"
   ]
  },
  {
   "cell_type": "code",
   "execution_count": 34,
   "id": "3b1d41d8-1fb9-4e1c-90be-fffc51010673",
   "metadata": {},
   "outputs": [
    {
     "name": "stdout",
     "output_type": "stream",
     "text": [
      "Hello World!\n",
      "Hello World!\n",
      "Hello World!\n",
      "Hello World!\n",
      "Hello World!\n"
     ]
    }
   ],
   "source": [
    "def funct(str):\n",
    "    for i in range(str):        #O(n) time\n",
    "        print(\"Hello World!\")   #O(1) space\n",
    "funct(5)"
   ]
  },
  {
   "cell_type": "markdown",
   "id": "d92bf916-b0ec-4bd9-afa5-c39bc2282258",
   "metadata": {},
   "source": [
    "Here time complexity is O(n) but spcae complexity is O(1) since only Hello World! is stored in the memory"
   ]
  },
  {
   "cell_type": "code",
   "execution_count": null,
   "id": "519e3257-b302-4164-9996-45b252a30cc5",
   "metadata": {},
   "outputs": [],
   "source": []
  }
 ],
 "metadata": {
  "kernelspec": {
   "display_name": "Python 3 (ipykernel)",
   "language": "python",
   "name": "python3"
  },
  "language_info": {
   "codemirror_mode": {
    "name": "ipython",
    "version": 3
   },
   "file_extension": ".py",
   "mimetype": "text/x-python",
   "name": "python",
   "nbconvert_exporter": "python",
   "pygments_lexer": "ipython3",
   "version": "3.11.5"
  }
 },
 "nbformat": 4,
 "nbformat_minor": 5
}
